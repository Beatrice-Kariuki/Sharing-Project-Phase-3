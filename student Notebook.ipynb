{
 "cells": [
  {
   "cell_type": "code",
   "execution_count": 1,
   "metadata": {},
   "outputs": [],
   "source": []
  },
  {
   "cell_type": "markdown",
   "metadata": {},
   "source": [
    "### BUSINESS UNDERSTANDING"
   ]
  },
  {
   "cell_type": "markdown",
   "metadata": {},
   "source": [
    "#### OVERVIEW"
   ]
  },
  {
   "cell_type": "markdown",
   "metadata": {},
   "source": [
    "The dataset represents electronic health records collected from a private hospital in Indonesia. It contains laboratory test results of patients, which are used to determine whether the patient should be classified as an in-care or out-care patient. The objective is to build a machine learning model that can predict the patient's classification based on their laboratory test results and reduce the efforts and time expanded by the doctors which reflect on the type of services provided to the patient.\n",
    "\n",
    "The model will utilize the patients' test results, such as haematocrit, haemoglobins, erythrocyte count, leucocyte count, thrombocyte count, MCH, MCHC, MCV, age, and gender, to predict whether a patient should be classified as in-care or out-care, the model aims to provide a predictive tool for healthcare professionals. This tool can assist in the decision-making process by quickly determining whether a patient requires inpatient care (overnight hospitalization) or outpatient care (no overnight stay required)"
   ]
  },
  {
   "cell_type": "markdown",
   "metadata": {},
   "source": [
    "### Business Problem"
   ]
  },
  {
   "cell_type": "code",
   "execution_count": null,
   "metadata": {},
   "outputs": [],
   "source": []
  },
  {
   "cell_type": "markdown",
   "metadata": {},
   "source": [
    "### Business Objectives"
   ]
  },
  {
   "cell_type": "markdown",
   "metadata": {},
   "source": [
    "- Improve Patient Care Classification by automating the process of categorizing patients based on their laboratory test results to ensure timely and appropriate treatment.\n",
    "\n",
    "- Optimizing resource allocation by accurately predicting patient classifications, the hospital can optimize resource allocation, such as beds, staffing, and other medical resources. This ensures that the right resources are available to meet the needs of different patient categories, leading to improved efficiency and cost-effectiveness"
   ]
  },
  {
   "cell_type": "markdown",
   "metadata": {},
   "source": [
    "### Data Understanding"
   ]
  },
  {
   "cell_type": "markdown",
   "metadata": {},
   "source": [
    "The dataset is Electronic Health Record Predicting collected from a private Hospital in Indonesia. It contains the patient's laboratory test results used to determine next patient treatment whether in care or out care. This dataset was downloaded from Kaggle https://www.kaggle.com/datasets/saurabhshahane/patient-treatment-classification\n",
    "\n",
    "Given is the attribute name and a brief description.\n",
    "\n",
    "\n",
    "- HAEMATOCRIT /Continuous /35.1 / Patient laboratory test that measures the proportion of red blood cells in your blood\n",
    "\n",
    "\n",
    "- HAEMOGLOBINS/Continuous/11.8 / Patient laboratory test that measures the levels of hemoglobin in your blood\n",
    "\n",
    "- ERYTHROCYTE/Continuous/4.65 / Patient laboratory test that measures how many red blood cells (RBCs) your blood contains.\n",
    "\n",
    "- LEUCOCYTE /Continuous /6.3 / Patient laboratory test that measures the number of white blood cells in your body\n",
    "- THROMBOCYTE- test for the measurement of platelets count in your blood.\n",
    "\n",
    "- MCH-Mean corpuscular hemoglobin, test for the measurement of the amount of hemoglobin in a red blood cell.\n",
    "\n",
    "- MCHC/Continuous/33.6/ Patient laboratory test that evaluate whether RBC are carrying an appropriate amount of hemoglobin(mean corpuscular hemoglobin concentration)\n",
    "\n",
    "- MCV/Continuous /75.5/ Patient laboratory tests that help diagnose or monitor certain blood disorders, including anemia(mean corpuscular volume)\n",
    "\n",
    "- AGE-Patient age\n",
    "\n",
    "- SEX- Patient gender\n",
    "\n",
    "- SOURCE-The class target in care patient and out care patient.\n",
    "\n"
   ]
  },
  {
   "cell_type": "code",
   "execution_count": 1,
   "metadata": {},
   "outputs": [],
   "source": [
    "#importing libraries\n",
    "import pandas as pd"
   ]
  },
  {
   "cell_type": "code",
   "execution_count": 2,
   "metadata": {},
   "outputs": [
    {
     "data": {
      "text/html": [
       "<div>\n",
       "<style scoped>\n",
       "    .dataframe tbody tr th:only-of-type {\n",
       "        vertical-align: middle;\n",
       "    }\n",
       "\n",
       "    .dataframe tbody tr th {\n",
       "        vertical-align: top;\n",
       "    }\n",
       "\n",
       "    .dataframe thead th {\n",
       "        text-align: right;\n",
       "    }\n",
       "</style>\n",
       "<table border=\"1\" class=\"dataframe\">\n",
       "  <thead>\n",
       "    <tr style=\"text-align: right;\">\n",
       "      <th></th>\n",
       "      <th>HAEMATOCRIT</th>\n",
       "      <th>HAEMOGLOBINS</th>\n",
       "      <th>ERYTHROCYTE</th>\n",
       "      <th>LEUCOCYTE</th>\n",
       "      <th>THROMBOCYTE</th>\n",
       "      <th>MCH</th>\n",
       "      <th>MCHC</th>\n",
       "      <th>MCV</th>\n",
       "      <th>AGE</th>\n",
       "      <th>SEX</th>\n",
       "      <th>SOURCE</th>\n",
       "    </tr>\n",
       "  </thead>\n",
       "  <tbody>\n",
       "    <tr>\n",
       "      <th>0</th>\n",
       "      <td>35.1</td>\n",
       "      <td>11.8</td>\n",
       "      <td>4.65</td>\n",
       "      <td>6.3</td>\n",
       "      <td>310</td>\n",
       "      <td>25.4</td>\n",
       "      <td>33.6</td>\n",
       "      <td>75.5</td>\n",
       "      <td>1</td>\n",
       "      <td>F</td>\n",
       "      <td>out</td>\n",
       "    </tr>\n",
       "    <tr>\n",
       "      <th>1</th>\n",
       "      <td>43.5</td>\n",
       "      <td>14.8</td>\n",
       "      <td>5.39</td>\n",
       "      <td>12.7</td>\n",
       "      <td>334</td>\n",
       "      <td>27.5</td>\n",
       "      <td>34.0</td>\n",
       "      <td>80.7</td>\n",
       "      <td>1</td>\n",
       "      <td>F</td>\n",
       "      <td>out</td>\n",
       "    </tr>\n",
       "    <tr>\n",
       "      <th>2</th>\n",
       "      <td>33.5</td>\n",
       "      <td>11.3</td>\n",
       "      <td>4.74</td>\n",
       "      <td>13.2</td>\n",
       "      <td>305</td>\n",
       "      <td>23.8</td>\n",
       "      <td>33.7</td>\n",
       "      <td>70.7</td>\n",
       "      <td>1</td>\n",
       "      <td>F</td>\n",
       "      <td>out</td>\n",
       "    </tr>\n",
       "    <tr>\n",
       "      <th>3</th>\n",
       "      <td>39.1</td>\n",
       "      <td>13.7</td>\n",
       "      <td>4.98</td>\n",
       "      <td>10.5</td>\n",
       "      <td>366</td>\n",
       "      <td>27.5</td>\n",
       "      <td>35.0</td>\n",
       "      <td>78.5</td>\n",
       "      <td>1</td>\n",
       "      <td>F</td>\n",
       "      <td>out</td>\n",
       "    </tr>\n",
       "    <tr>\n",
       "      <th>4</th>\n",
       "      <td>30.9</td>\n",
       "      <td>9.9</td>\n",
       "      <td>4.23</td>\n",
       "      <td>22.1</td>\n",
       "      <td>333</td>\n",
       "      <td>23.4</td>\n",
       "      <td>32.0</td>\n",
       "      <td>73.0</td>\n",
       "      <td>1</td>\n",
       "      <td>M</td>\n",
       "      <td>out</td>\n",
       "    </tr>\n",
       "  </tbody>\n",
       "</table>\n",
       "</div>"
      ],
      "text/plain": [
       "   HAEMATOCRIT  HAEMOGLOBINS  ERYTHROCYTE  LEUCOCYTE  THROMBOCYTE   MCH  MCHC  \\\n",
       "0         35.1          11.8         4.65        6.3          310  25.4  33.6   \n",
       "1         43.5          14.8         5.39       12.7          334  27.5  34.0   \n",
       "2         33.5          11.3         4.74       13.2          305  23.8  33.7   \n",
       "3         39.1          13.7         4.98       10.5          366  27.5  35.0   \n",
       "4         30.9           9.9         4.23       22.1          333  23.4  32.0   \n",
       "\n",
       "    MCV  AGE SEX SOURCE  \n",
       "0  75.5    1   F    out  \n",
       "1  80.7    1   F    out  \n",
       "2  70.7    1   F    out  \n",
       "3  78.5    1   F    out  \n",
       "4  73.0    1   M    out  "
      ]
     },
     "execution_count": 2,
     "metadata": {},
     "output_type": "execute_result"
    }
   ],
   "source": [
    "df=pd.read_csv('hosp_data.csv')\n",
    "df.head()"
   ]
  },
  {
   "cell_type": "code",
   "execution_count": 3,
   "metadata": {},
   "outputs": [
    {
     "data": {
      "text/plain": [
       "(4412, 11)"
      ]
     },
     "execution_count": 3,
     "metadata": {},
     "output_type": "execute_result"
    }
   ],
   "source": [
    "#cheking data shape\n",
    "df.shape"
   ]
  },
  {
   "cell_type": "code",
   "execution_count": 4,
   "metadata": {},
   "outputs": [
    {
     "name": "stdout",
     "output_type": "stream",
     "text": [
      "<class 'pandas.core.frame.DataFrame'>\n",
      "RangeIndex: 4412 entries, 0 to 4411\n",
      "Data columns (total 11 columns):\n",
      " #   Column        Non-Null Count  Dtype  \n",
      "---  ------        --------------  -----  \n",
      " 0   HAEMATOCRIT   4412 non-null   float64\n",
      " 1   HAEMOGLOBINS  4412 non-null   float64\n",
      " 2   ERYTHROCYTE   4412 non-null   float64\n",
      " 3   LEUCOCYTE     4412 non-null   float64\n",
      " 4   THROMBOCYTE   4412 non-null   int64  \n",
      " 5   MCH           4412 non-null   float64\n",
      " 6   MCHC          4412 non-null   float64\n",
      " 7   MCV           4412 non-null   float64\n",
      " 8   AGE           4412 non-null   int64  \n",
      " 9   SEX           4412 non-null   object \n",
      " 10  SOURCE        4412 non-null   object \n",
      "dtypes: float64(7), int64(2), object(2)\n",
      "memory usage: 379.3+ KB\n"
     ]
    }
   ],
   "source": [
    "#checking data information\n",
    "df.info()"
   ]
  },
  {
   "cell_type": "code",
   "execution_count": 5,
   "metadata": {},
   "outputs": [
    {
     "data": {
      "text/html": [
       "<div>\n",
       "<style scoped>\n",
       "    .dataframe tbody tr th:only-of-type {\n",
       "        vertical-align: middle;\n",
       "    }\n",
       "\n",
       "    .dataframe tbody tr th {\n",
       "        vertical-align: top;\n",
       "    }\n",
       "\n",
       "    .dataframe thead th {\n",
       "        text-align: right;\n",
       "    }\n",
       "</style>\n",
       "<table border=\"1\" class=\"dataframe\">\n",
       "  <thead>\n",
       "    <tr style=\"text-align: right;\">\n",
       "      <th></th>\n",
       "      <th>count</th>\n",
       "      <th>mean</th>\n",
       "      <th>std</th>\n",
       "      <th>min</th>\n",
       "      <th>25%</th>\n",
       "      <th>50%</th>\n",
       "      <th>75%</th>\n",
       "      <th>max</th>\n",
       "    </tr>\n",
       "  </thead>\n",
       "  <tbody>\n",
       "    <tr>\n",
       "      <th>HAEMATOCRIT</th>\n",
       "      <td>4412.0</td>\n",
       "      <td>38.197688</td>\n",
       "      <td>5.974784</td>\n",
       "      <td>13.70</td>\n",
       "      <td>34.375</td>\n",
       "      <td>38.60</td>\n",
       "      <td>42.50</td>\n",
       "      <td>69.00</td>\n",
       "    </tr>\n",
       "    <tr>\n",
       "      <th>HAEMOGLOBINS</th>\n",
       "      <td>4412.0</td>\n",
       "      <td>12.741727</td>\n",
       "      <td>2.079903</td>\n",
       "      <td>3.80</td>\n",
       "      <td>11.400</td>\n",
       "      <td>12.90</td>\n",
       "      <td>14.20</td>\n",
       "      <td>18.90</td>\n",
       "    </tr>\n",
       "    <tr>\n",
       "      <th>ERYTHROCYTE</th>\n",
       "      <td>4412.0</td>\n",
       "      <td>4.541260</td>\n",
       "      <td>0.784091</td>\n",
       "      <td>1.48</td>\n",
       "      <td>4.040</td>\n",
       "      <td>4.57</td>\n",
       "      <td>5.05</td>\n",
       "      <td>7.86</td>\n",
       "    </tr>\n",
       "    <tr>\n",
       "      <th>LEUCOCYTE</th>\n",
       "      <td>4412.0</td>\n",
       "      <td>8.718608</td>\n",
       "      <td>5.049041</td>\n",
       "      <td>1.10</td>\n",
       "      <td>5.675</td>\n",
       "      <td>7.60</td>\n",
       "      <td>10.30</td>\n",
       "      <td>76.60</td>\n",
       "    </tr>\n",
       "    <tr>\n",
       "      <th>THROMBOCYTE</th>\n",
       "      <td>4412.0</td>\n",
       "      <td>257.524479</td>\n",
       "      <td>113.972365</td>\n",
       "      <td>8.00</td>\n",
       "      <td>188.000</td>\n",
       "      <td>256.00</td>\n",
       "      <td>321.00</td>\n",
       "      <td>1183.00</td>\n",
       "    </tr>\n",
       "    <tr>\n",
       "      <th>MCH</th>\n",
       "      <td>4412.0</td>\n",
       "      <td>28.234701</td>\n",
       "      <td>2.672639</td>\n",
       "      <td>14.90</td>\n",
       "      <td>27.200</td>\n",
       "      <td>28.70</td>\n",
       "      <td>29.80</td>\n",
       "      <td>40.80</td>\n",
       "    </tr>\n",
       "    <tr>\n",
       "      <th>MCHC</th>\n",
       "      <td>4412.0</td>\n",
       "      <td>33.343042</td>\n",
       "      <td>1.228664</td>\n",
       "      <td>26.00</td>\n",
       "      <td>32.700</td>\n",
       "      <td>33.40</td>\n",
       "      <td>34.10</td>\n",
       "      <td>39.00</td>\n",
       "    </tr>\n",
       "    <tr>\n",
       "      <th>MCV</th>\n",
       "      <td>4412.0</td>\n",
       "      <td>84.612942</td>\n",
       "      <td>6.859101</td>\n",
       "      <td>54.00</td>\n",
       "      <td>81.500</td>\n",
       "      <td>85.40</td>\n",
       "      <td>88.70</td>\n",
       "      <td>115.60</td>\n",
       "    </tr>\n",
       "    <tr>\n",
       "      <th>AGE</th>\n",
       "      <td>4412.0</td>\n",
       "      <td>46.626473</td>\n",
       "      <td>21.731218</td>\n",
       "      <td>1.00</td>\n",
       "      <td>29.000</td>\n",
       "      <td>47.00</td>\n",
       "      <td>64.00</td>\n",
       "      <td>99.00</td>\n",
       "    </tr>\n",
       "  </tbody>\n",
       "</table>\n",
       "</div>"
      ],
      "text/plain": [
       "               count        mean         std    min      25%     50%     75%  \\\n",
       "HAEMATOCRIT   4412.0   38.197688    5.974784  13.70   34.375   38.60   42.50   \n",
       "HAEMOGLOBINS  4412.0   12.741727    2.079903   3.80   11.400   12.90   14.20   \n",
       "ERYTHROCYTE   4412.0    4.541260    0.784091   1.48    4.040    4.57    5.05   \n",
       "LEUCOCYTE     4412.0    8.718608    5.049041   1.10    5.675    7.60   10.30   \n",
       "THROMBOCYTE   4412.0  257.524479  113.972365   8.00  188.000  256.00  321.00   \n",
       "MCH           4412.0   28.234701    2.672639  14.90   27.200   28.70   29.80   \n",
       "MCHC          4412.0   33.343042    1.228664  26.00   32.700   33.40   34.10   \n",
       "MCV           4412.0   84.612942    6.859101  54.00   81.500   85.40   88.70   \n",
       "AGE           4412.0   46.626473   21.731218   1.00   29.000   47.00   64.00   \n",
       "\n",
       "                  max  \n",
       "HAEMATOCRIT     69.00  \n",
       "HAEMOGLOBINS    18.90  \n",
       "ERYTHROCYTE      7.86  \n",
       "LEUCOCYTE       76.60  \n",
       "THROMBOCYTE   1183.00  \n",
       "MCH             40.80  \n",
       "MCHC            39.00  \n",
       "MCV            115.60  \n",
       "AGE             99.00  "
      ]
     },
     "execution_count": 5,
     "metadata": {},
     "output_type": "execute_result"
    }
   ],
   "source": [
    "#Generating descriptive statistics \n",
    "df.describe().transpose()"
   ]
  },
  {
   "cell_type": "markdown",
   "metadata": {},
   "source": [
    "- Count indicates the number of non-null values present in each column e.g 4412.0\n",
    "- mean represents the average value of each column \n",
    "- std denotes the standard deviation, which measures the dispersion or spread of the values around the mean.\n",
    "- Min shows the minimum value observed in each column. For instance, the minimum HAEMATOCRIT level is 13.70.\n",
    "- Max represents the maximum value observed in each column. For example, the maximum HAEMATOCRIT level is 69.00."
   ]
  },
  {
   "cell_type": "markdown",
   "metadata": {},
   "source": [
    "### Data Preparation"
   ]
  },
  {
   "cell_type": "code",
   "execution_count": null,
   "metadata": {},
   "outputs": [],
   "source": []
  }
 ],
 "metadata": {
  "kernelspec": {
   "display_name": "Python 3 (ipykernel)",
   "language": "python",
   "name": "python3"
  },
  "language_info": {
   "codemirror_mode": {
    "name": "ipython",
    "version": 3
   },
   "file_extension": ".py",
   "mimetype": "text/x-python",
   "name": "python",
   "nbconvert_exporter": "python",
   "pygments_lexer": "ipython3",
   "version": "3.11.5"
  }
 },
 "nbformat": 4,
 "nbformat_minor": 4
}
